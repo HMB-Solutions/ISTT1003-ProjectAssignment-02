{
 "cells": [
  {
   "cell_type": "markdown",
   "id": "50f11f08-7dba-453b-b296-4c34857d7f3b",
   "metadata": {},
   "source": [
    "### Relevante pakker"
   ]
  },
  {
   "cell_type": "code",
   "execution_count": 2,
   "id": "dcb40345-1333-4d8e-98f2-141742eda0bc",
   "metadata": {
    "ExecuteTime": {
     "end_time": "2023-11-07T08:34:22.556241880Z",
     "start_time": "2023-11-07T08:34:22.270430585Z"
    }
   },
   "outputs": [],
   "source": [
    "import numpy as np\n",
    "import pandas as pd\n",
    "import matplotlib.pyplot as plt\n",
    "import seaborn as sns\n",
    "\n",
    "from scipy import stats\n",
    "import statsmodels.formula.api as smf\n",
    "import statsmodels.api as sm"
   ]
  },
  {
   "cell_type": "markdown",
   "id": "24502d85-0c4f-42ef-ae09-3d55ce6de792",
   "metadata": {},
   "source": [
    "Merk: ChatGPT har blitt brukt for å få hjelp til å skrive deler av denne koden."
   ]
  },
  {
   "cell_type": "markdown",
   "id": "a3b4223c-cd82-47fa-9929-410c9782bca1",
   "metadata": {
    "tags": []
   },
   "source": [
    "### Rense dataene"
   ]
  },
  {
   "cell_type": "code",
   "execution_count": 49,
   "id": "e2f2d7aa-9ea4-4a61-a367-99de1e9bab75",
   "metadata": {
    "ExecuteTime": {
     "end_time": "2023-11-07T09:39:09.009352595Z",
     "start_time": "2023-11-07T09:39:08.953587947Z"
    }
   },
   "outputs": [
    {
     "data": {
      "text/plain": "     Item_Number                       Set_Name             Theme  Pieces  \\\n0          41916          Extra Dots - Series 2              DOTS   109.0   \n1          41908          Extra Dots - Series 1              DOTS   109.0   \n2          11006           Creative Blue Bricks           Classic    52.0   \n3          11007          Creative Green Bricks           Classic    60.0   \n4          41901         Funky Animals Bracelet              DOTS    33.0   \n...          ...                            ...               ...     ...   \n1299       45678                SPIKE Prime Set    LEGO Education   528.0   \n1300       71367          Mario's House & Yoshi  LEGO Super Mario   205.0   \n1301       71368           Toad's Treasure Hunt  LEGO Super Mario   464.0   \n1302       71369    Bowser's Castle Boss Battle  LEGO Super Mario  1010.0   \n1303       71371  Propeller Mario Power-Up Pack  LEGO Super Mario    13.0   \n\n        Price Amazon_Price    Year  Ages  Pages  Minifigures  Packaging  \\\n0       3.99        $3.44   2020.0     6    NaN          NaN  Foil pack   \n1       3.99        $3.99   2020.0     6    NaN          NaN  Foil pack   \n2       4.99        $4.93   2020.0     4   37.0          NaN        Box   \n3       4.99        $4.93   2020.0     4   37.0          NaN        Box   \n4       4.99        $4.99   2020.0     6    NaN          NaN  Foil pack   \n...       ...          ...     ...   ...    ...          ...        ...   \n1299  329.95           NaN  2020.0    10    NaN          2.0        NaN   \n1300   29.99           NaN  2020.0     6    NaN          2.0        Box   \n1301   69.99           NaN  2020.0     8    NaN          4.0        Box   \n1302   99.99           NaN  2020.0     8    NaN          NaN        Box   \n1303    9.99           NaN  2020.0     6    NaN          NaN        Box   \n\n     Weight  Unique_Pieces Availability   Size  \n0       NaN            6.0       Retail  Small  \n1       NaN            6.0       Retail  Small  \n2       NaN           28.0       Retail  Small  \n3       NaN           36.0       Retail  Small  \n4       NaN           10.0       Retail  Small  \n...     ...            ...          ...    ...  \n1299    NaN          108.0          NaN  Small  \n1300    NaN          114.0       Retail  Small  \n1301    NaN          195.0       Retail  Small  \n1302    NaN          346.0       Retail  Small  \n1303    NaN           11.0       Retail  Small  \n\n[843 rows x 15 columns]",
      "text/html": "<div>\n<style scoped>\n    .dataframe tbody tr th:only-of-type {\n        vertical-align: middle;\n    }\n\n    .dataframe tbody tr th {\n        vertical-align: top;\n    }\n\n    .dataframe thead th {\n        text-align: right;\n    }\n</style>\n<table border=\"1\" class=\"dataframe\">\n  <thead>\n    <tr style=\"text-align: right;\">\n      <th></th>\n      <th>Item_Number</th>\n      <th>Set_Name</th>\n      <th>Theme</th>\n      <th>Pieces</th>\n      <th>Price</th>\n      <th>Amazon_Price</th>\n      <th>Year</th>\n      <th>Ages</th>\n      <th>Pages</th>\n      <th>Minifigures</th>\n      <th>Packaging</th>\n      <th>Weight</th>\n      <th>Unique_Pieces</th>\n      <th>Availability</th>\n      <th>Size</th>\n    </tr>\n  </thead>\n  <tbody>\n    <tr>\n      <th>0</th>\n      <td>41916</td>\n      <td>Extra Dots - Series 2</td>\n      <td>DOTS</td>\n      <td>109.0</td>\n      <td>3.99</td>\n      <td>$3.44</td>\n      <td>2020.0</td>\n      <td>6</td>\n      <td>NaN</td>\n      <td>NaN</td>\n      <td>Foil pack</td>\n      <td>NaN</td>\n      <td>6.0</td>\n      <td>Retail</td>\n      <td>Small</td>\n    </tr>\n    <tr>\n      <th>1</th>\n      <td>41908</td>\n      <td>Extra Dots - Series 1</td>\n      <td>DOTS</td>\n      <td>109.0</td>\n      <td>3.99</td>\n      <td>$3.99</td>\n      <td>2020.0</td>\n      <td>6</td>\n      <td>NaN</td>\n      <td>NaN</td>\n      <td>Foil pack</td>\n      <td>NaN</td>\n      <td>6.0</td>\n      <td>Retail</td>\n      <td>Small</td>\n    </tr>\n    <tr>\n      <th>2</th>\n      <td>11006</td>\n      <td>Creative Blue Bricks</td>\n      <td>Classic</td>\n      <td>52.0</td>\n      <td>4.99</td>\n      <td>$4.93</td>\n      <td>2020.0</td>\n      <td>4</td>\n      <td>37.0</td>\n      <td>NaN</td>\n      <td>Box</td>\n      <td>NaN</td>\n      <td>28.0</td>\n      <td>Retail</td>\n      <td>Small</td>\n    </tr>\n    <tr>\n      <th>3</th>\n      <td>11007</td>\n      <td>Creative Green Bricks</td>\n      <td>Classic</td>\n      <td>60.0</td>\n      <td>4.99</td>\n      <td>$4.93</td>\n      <td>2020.0</td>\n      <td>4</td>\n      <td>37.0</td>\n      <td>NaN</td>\n      <td>Box</td>\n      <td>NaN</td>\n      <td>36.0</td>\n      <td>Retail</td>\n      <td>Small</td>\n    </tr>\n    <tr>\n      <th>4</th>\n      <td>41901</td>\n      <td>Funky Animals Bracelet</td>\n      <td>DOTS</td>\n      <td>33.0</td>\n      <td>4.99</td>\n      <td>$4.99</td>\n      <td>2020.0</td>\n      <td>6</td>\n      <td>NaN</td>\n      <td>NaN</td>\n      <td>Foil pack</td>\n      <td>NaN</td>\n      <td>10.0</td>\n      <td>Retail</td>\n      <td>Small</td>\n    </tr>\n    <tr>\n      <th>...</th>\n      <td>...</td>\n      <td>...</td>\n      <td>...</td>\n      <td>...</td>\n      <td>...</td>\n      <td>...</td>\n      <td>...</td>\n      <td>...</td>\n      <td>...</td>\n      <td>...</td>\n      <td>...</td>\n      <td>...</td>\n      <td>...</td>\n      <td>...</td>\n      <td>...</td>\n    </tr>\n    <tr>\n      <th>1299</th>\n      <td>45678</td>\n      <td>SPIKE Prime Set</td>\n      <td>LEGO Education</td>\n      <td>528.0</td>\n      <td>329.95</td>\n      <td>NaN</td>\n      <td>2020.0</td>\n      <td>10</td>\n      <td>NaN</td>\n      <td>2.0</td>\n      <td>NaN</td>\n      <td>NaN</td>\n      <td>108.0</td>\n      <td>NaN</td>\n      <td>Small</td>\n    </tr>\n    <tr>\n      <th>1300</th>\n      <td>71367</td>\n      <td>Mario's House &amp; Yoshi</td>\n      <td>LEGO Super Mario</td>\n      <td>205.0</td>\n      <td>29.99</td>\n      <td>NaN</td>\n      <td>2020.0</td>\n      <td>6</td>\n      <td>NaN</td>\n      <td>2.0</td>\n      <td>Box</td>\n      <td>NaN</td>\n      <td>114.0</td>\n      <td>Retail</td>\n      <td>Small</td>\n    </tr>\n    <tr>\n      <th>1301</th>\n      <td>71368</td>\n      <td>Toad's Treasure Hunt</td>\n      <td>LEGO Super Mario</td>\n      <td>464.0</td>\n      <td>69.99</td>\n      <td>NaN</td>\n      <td>2020.0</td>\n      <td>8</td>\n      <td>NaN</td>\n      <td>4.0</td>\n      <td>Box</td>\n      <td>NaN</td>\n      <td>195.0</td>\n      <td>Retail</td>\n      <td>Small</td>\n    </tr>\n    <tr>\n      <th>1302</th>\n      <td>71369</td>\n      <td>Bowser's Castle Boss Battle</td>\n      <td>LEGO Super Mario</td>\n      <td>1010.0</td>\n      <td>99.99</td>\n      <td>NaN</td>\n      <td>2020.0</td>\n      <td>8</td>\n      <td>NaN</td>\n      <td>NaN</td>\n      <td>Box</td>\n      <td>NaN</td>\n      <td>346.0</td>\n      <td>Retail</td>\n      <td>Small</td>\n    </tr>\n    <tr>\n      <th>1303</th>\n      <td>71371</td>\n      <td>Propeller Mario Power-Up Pack</td>\n      <td>LEGO Super Mario</td>\n      <td>13.0</td>\n      <td>9.99</td>\n      <td>NaN</td>\n      <td>2020.0</td>\n      <td>6</td>\n      <td>NaN</td>\n      <td>NaN</td>\n      <td>Box</td>\n      <td>NaN</td>\n      <td>11.0</td>\n      <td>Retail</td>\n      <td>Small</td>\n    </tr>\n  </tbody>\n</table>\n<p>843 rows × 15 columns</p>\n</div>"
     },
     "execution_count": 49,
     "metadata": {},
     "output_type": "execute_result"
    }
   ],
   "source": [
    "df = pd.read_csv(\"lego.population.csv\", sep = \",\", encoding = \"latin1\")\n",
    "import pandas as pd\n",
    "\n",
    "# Clean the 'Theme' column, remove special characters\n",
    "df['Theme'] = df['Theme'].astype(str)\n",
    "df['Theme'] = df['Theme'].str.replace(r'[^a-zA-Z0-9\\s-]', '', regex=True)\n",
    "\n",
    "# Clean the 'Price' column\n",
    "df['Price'] = df['Price'].str.replace('\\$', '', regex = True)\n",
    "\n",
    "# Filter out rows where 'Theme' is 'DUPLO'\n",
    "#df = df[df['Theme'] != 'DUPLO']\n",
    "\n",
    "# Filter out rows with certain 'Ages' values\n",
    "df = df[df['Ages'] != 'Ages_NA']\n",
    "df = df[df['Ages'] != 'NaN']\n",
    "\n",
    "# Remove any leading/trailing whitespace from \"Ages\", and then remove 1 1/2 from Ages\n",
    "df['Ages'] = df['Ages'].str.strip()\n",
    "df = df[df['Ages'] != 'Ages_1½']  \n",
    "\n",
    "# Trim Ages enstries to only keep numbers\n",
    "df['Ages'] = df['Ages'].str.replace('Ages_', '').str.replace('+', '').str.replace('-.*', '')\n",
    "\n",
    "# Convert age strings to int\n",
    "df['Ages'] = pd.to_numeric(df['Ages'], errors='coerce').fillna(0).astype(int)\n",
    "\n",
    "# Drop every age less than 3 years old\n",
    "df = df[df['Ages'] > 3]\n",
    "\n",
    "df"
   ]
  },
  {
   "cell_type": "code",
   "execution_count": 51,
   "id": "dfb7f59b-5291-46f5-b6e0-3bd48146358f",
   "metadata": {
    "tags": [],
    "ExecuteTime": {
     "end_time": "2023-11-07T10:13:04.159399808Z",
     "start_time": "2023-11-07T10:13:04.096131122Z"
    }
   },
   "outputs": [
    {
     "data": {
      "text/plain": "      Pieces  Pages  Ages\n2       52.0   37.0     4\n3       60.0   37.0     4\n13      95.0   40.0     6\n14       1.0    1.0     4\n16      69.0   28.0     4\n...      ...    ...   ...\n1173  3178.0  452.0    16\n1174  3120.0  464.0    16\n1175  1105.0  556.0    10\n1176  3662.0  564.0    18\n1177  3696.0  657.0    18\n\n[741 rows x 3 columns]",
      "text/html": "<div>\n<style scoped>\n    .dataframe tbody tr th:only-of-type {\n        vertical-align: middle;\n    }\n\n    .dataframe tbody tr th {\n        vertical-align: top;\n    }\n\n    .dataframe thead th {\n        text-align: right;\n    }\n</style>\n<table border=\"1\" class=\"dataframe\">\n  <thead>\n    <tr style=\"text-align: right;\">\n      <th></th>\n      <th>Pieces</th>\n      <th>Pages</th>\n      <th>Ages</th>\n    </tr>\n  </thead>\n  <tbody>\n    <tr>\n      <th>2</th>\n      <td>52.0</td>\n      <td>37.0</td>\n      <td>4</td>\n    </tr>\n    <tr>\n      <th>3</th>\n      <td>60.0</td>\n      <td>37.0</td>\n      <td>4</td>\n    </tr>\n    <tr>\n      <th>13</th>\n      <td>95.0</td>\n      <td>40.0</td>\n      <td>6</td>\n    </tr>\n    <tr>\n      <th>14</th>\n      <td>1.0</td>\n      <td>1.0</td>\n      <td>4</td>\n    </tr>\n    <tr>\n      <th>16</th>\n      <td>69.0</td>\n      <td>28.0</td>\n      <td>4</td>\n    </tr>\n    <tr>\n      <th>...</th>\n      <td>...</td>\n      <td>...</td>\n      <td>...</td>\n    </tr>\n    <tr>\n      <th>1173</th>\n      <td>3178.0</td>\n      <td>452.0</td>\n      <td>16</td>\n    </tr>\n    <tr>\n      <th>1174</th>\n      <td>3120.0</td>\n      <td>464.0</td>\n      <td>16</td>\n    </tr>\n    <tr>\n      <th>1175</th>\n      <td>1105.0</td>\n      <td>556.0</td>\n      <td>10</td>\n    </tr>\n    <tr>\n      <th>1176</th>\n      <td>3662.0</td>\n      <td>564.0</td>\n      <td>18</td>\n    </tr>\n    <tr>\n      <th>1177</th>\n      <td>3696.0</td>\n      <td>657.0</td>\n      <td>18</td>\n    </tr>\n  </tbody>\n</table>\n<p>741 rows × 3 columns</p>\n</div>"
     },
     "execution_count": 51,
     "metadata": {},
     "output_type": "execute_result"
    }
   ],
   "source": [
    "# fjerner forklaringsvariabler vi ikke trenger\n",
    "df2 = df[['Pieces', 'Pages', 'Ages']]\n",
    "\n",
    "# fjerner observasjoner med manglende datapunkter\n",
    "df2 = df2.dropna()\n",
    "\n",
    "df2"
   ]
  },
  {
   "cell_type": "markdown",
   "id": "4a78dbed-8cd3-4d2c-9c1a-81126d49c95c",
   "metadata": {},
   "source": [
    "### Mer eller mindre relevante kodesnutter"
   ]
  },
  {
   "cell_type": "code",
   "execution_count": 39,
   "id": "b7277ac7-b3e9-41f8-91d0-3398955ed196",
   "metadata": {
    "ExecuteTime": {
     "end_time": "2023-11-06T10:32:19.104387455Z",
     "start_time": "2023-11-06T10:32:19.084796927Z"
    }
   },
   "outputs": [
    {
     "name": "stdout",
     "output_type": "stream",
     "text": [
      "Pieces    421.265823\n",
      "Pages     102.107108\n",
      "dtype: float64\n"
     ]
    }
   ],
   "source": [
    "print(df2.mean(numeric_only = True))"
   ]
  },
  {
   "cell_type": "code",
   "execution_count": 40,
   "id": "fdbb41c9-8461-4c74-ad4c-f229be31b3d9",
   "metadata": {
    "ExecuteTime": {
     "end_time": "2023-11-06T10:32:21.107244764Z",
     "start_time": "2023-11-06T10:32:21.101117692Z"
    }
   },
   "outputs": [
    {
     "name": "stdout",
     "output_type": "stream",
     "text": [
      "Theme\n",
      "nan                  125\n",
      "Star Wars            114\n",
      "Friends              102\n",
      "City                  95\n",
      "NINJAGO               78\n",
      "Marvel                50\n",
      "Disney                43\n",
      "BrickHeadz            40\n",
      "Creator 3-in-1        38\n",
      "Technic               38\n",
      "THE LEGO MOVIE 2      28\n",
      "Minecraft             26\n",
      "Harry Potter          24\n",
      "Jurassic World        20\n",
      "Classic               20\n",
      "Hidden Side           19\n",
      "Speed Champions       17\n",
      "Batman                16\n",
      "Creator Expert        15\n",
      "Juniors               12\n",
      "Ideas                 12\n",
      "Architecture          11\n",
      "DC                    11\n",
      "Monkie Kid             9\n",
      "Trolls World Tour      9\n",
      "Minifigures            8\n",
      "LEGO Frozen 2          8\n",
      "Overwatch              8\n",
      "Unikitty               8\n",
      "DOTS                   8\n",
      "Powered UP             4\n",
      "Xtra                   4\n",
      "Powerpuff Girls        2\n",
      "Minions                2\n",
      "Spider-Man             2\n",
      "Stranger Things        1\n",
      "Name: count, dtype: int64\n"
     ]
    }
   ],
   "source": [
    "print(df2['Theme'].value_counts())"
   ]
  },
  {
   "cell_type": "code",
   "execution_count": null,
   "id": "305f61df-482b-4632-aedc-c1155c13c71e",
   "metadata": {
    "ExecuteTime": {
     "end_time": "2023-11-06T09:46:56.923281312Z",
     "start_time": "2023-11-06T09:46:56.921862469Z"
    }
   },
   "outputs": [],
   "source": [
    "plt.hist(df2['Price'], bins=20, color='skyblue', edgecolor='black')\n",
    "plt.xlabel('Pris i dollar [$]')\n",
    "plt.ylabel('')\n",
    "plt.gca().set_aspect(1)\n",
    "plt.show()"
   ]
  },
  {
   "cell_type": "code",
   "execution_count": 10,
   "id": "af31fc2d-1787-49cb-a6ca-73ef99d7f4d8",
   "metadata": {
    "ExecuteTime": {
     "end_time": "2023-11-06T09:46:58.332874564Z",
     "start_time": "2023-11-06T09:46:58.007674543Z"
    }
   },
   "outputs": [
    {
     "data": {
      "text/plain": "<Figure size 640x480 with 1 Axes>",
      "image/png": "[encoded data removed]"
     },
     "metadata": {},
     "output_type": "display_data"
    }
   ],
   "source": [
    "plt.scatter(df2['Pieces'], df2['Price'])\n",
    "plt.xlabel('Antall brikker')\n",
    "plt.ylabel('Pris i dollar [$]')\n",
    "plt.gca().set_aspect(5)\n",
    "plt.show()"
   ]
  },
  {
   "cell_type": "code",
   "execution_count": 11,
   "id": "22b5c0f2-00b0-40d9-9829-57065427c8ce",
   "metadata": {
    "ExecuteTime": {
     "end_time": "2023-11-06T09:46:58.528191860Z",
     "start_time": "2023-11-06T09:46:58.514798916Z"
    }
   },
   "outputs": [
    {
     "name": "stdout",
     "output_type": "stream",
     "text": [
      "Pieces     699.0\n",
      "Price     99.99 \n",
      "Pages      168.0\n",
      "Name: 656, dtype: object\n"
     ]
    }
   ],
   "source": [
    "# hva er det dyreste settet i datasettet mon tro?\n",
    "print(df2.loc[df2['Price'].idxmax()])"
   ]
  },
  {
   "cell_type": "code",
   "execution_count": 12,
   "id": "d40850cf-b058-46df-b324-d69c6073f9bd",
   "metadata": {
    "ExecuteTime": {
     "end_time": "2023-11-06T09:47:03.817302041Z",
     "start_time": "2023-11-06T09:47:03.776718167Z"
    }
   },
   "outputs": [
    {
     "name": "stdout",
     "output_type": "stream",
     "text": [
      "Pieces     6020.0\n",
      "Price     399.99 \n",
      "Pages       636.0\n",
      "Name: 821, dtype: object\n"
     ]
    }
   ],
   "source": [
    "# og hvilket har flest brikker?\n",
    "print(df2.loc[df2['Pieces'].idxmax()])"
   ]
  },
  {
   "cell_type": "code",
   "execution_count": null,
   "id": "279981a0-b865-44ba-b942-ae78f05ec966",
   "metadata": {},
   "outputs": [],
   "source": [
    "# hvilke tema har de billigste settene?\n",
    "df2.groupby('Theme')['Price'].mean().sort_values(ascending=True)[:3]"
   ]
  },
  {
   "cell_type": "code",
   "execution_count": null,
   "id": "3a1895ad-c879-49f1-8acc-1a9494005a18",
   "metadata": {},
   "outputs": [],
   "source": [
    "# hvilke tema har flest brikker?\n",
    "df2.groupby('Theme')['Pieces'].mean().sort_values(ascending=False)[:3]"
   ]
  },
  {
   "cell_type": "code",
   "execution_count": null,
   "id": "2745c858-605e-4381-a91d-cd60a08ef14f",
   "metadata": {},
   "outputs": [],
   "source": [
    "sns.pairplot(df2, vars = ['Price', 'Pieces', 'Pages', 'Minifigures', 'Unique_Pieces'],\n",
    "             hue = 'Theme', \n",
    "             diag_kind = 'kde',\n",
    "             plot_kws = dict(alpha = 0.4))\n",
    "plt.show()"
   ]
  },
  {
   "cell_type": "code",
   "execution_count": null,
   "id": "25508f8d-3af0-422d-bd9c-1bde5ab698db",
   "metadata": {},
   "outputs": [],
   "source": [
    "# enkel lineær regresjon\n",
    "formel = 'Price ~ Pieces'\n",
    "\n",
    "modell = smf.ols(formel, data = df2)\n",
    "resultat = modell.fit()\n",
    "\n",
    "resultat.summary()"
   ]
  },
  {
   "cell_type": "code",
   "execution_count": null,
   "id": "1070f251-dbcc-4eef-bf0d-b3ba2485a548",
   "metadata": {},
   "outputs": [],
   "source": [
    "slope = resultat.params['Pieces']\n",
    "intercept = resultat.params['Intercept']\n",
    "\n",
    "regression_x = np.array(df2['Pieces'])\n",
    "\n",
    "regression_y = slope * regression_x + intercept\n",
    "\n",
    "plt.scatter(df2['Pieces'], df2['Price'], label='Data Points')\n",
    "plt.plot(regression_x, regression_y, color='red', label='Regression Line')\n",
    "plt.xlabel('Antall brikker')\n",
    "plt.ylabel('Pris [$]')\n",
    "plt.title('Kryssplott med regresjonslinje (enkel LR)')\n",
    "plt.legend()\n",
    "plt.grid()\n",
    "plt.show()"
   ]
  },
  {
   "cell_type": "code",
   "execution_count": null,
   "id": "70323c17-289b-4322-a086-f22b0b4ac188",
   "metadata": {},
   "outputs": [],
   "source": [
    "figure, axis = plt.subplots(1, 2, figsize = (15, 5))\n",
    "sns.scatterplot(x = resultat.fittedvalues, y = resultat.resid, ax = axis[0])\n",
    "axis[0].set_ylabel(\"Residual\")\n",
    "axis[0].set_xlabel(\"Predikert verdi\")\n",
    "\n",
    "sm.qqplot(resultat.resid, line = '45', fit = True, ax = axis[1])\n",
    "axis[1].set_ylabel(\"Kvantiler i residualene\")\n",
    "axis[1].set_xlabel(\"Kvantiler i normalfordelingen\")\n",
    "plt.show()"
   ]
  },
  {
   "cell_type": "code",
   "execution_count": null,
   "id": "f3b4e53e-487f-48a9-a52a-bad8e40f4358",
   "metadata": {},
   "outputs": [],
   "source": [
    "mythemes = ['Star Wars', 'NINJAGO', 'Harry Potter']\n",
    "subset_df = df2[df2['Theme'].isin(mythemes)]\n",
    "sns.pairplot(subset_df, vars = ['Price', 'Pieces', 'Pages', 'Minifigures', 'Unique_Pieces'],\n",
    "             hue = 'Theme', \n",
    "             diag_kind = 'kde',\n",
    "             plot_kws = dict(alpha = 0.4))\n",
    "plt.show()"
   ]
  },
  {
   "cell_type": "code",
   "execution_count": null,
   "id": "b15426d8-5785-4fe6-9058-8efed012385f",
   "metadata": {},
   "outputs": [],
   "source": [
    "# enkel lineær regresjon, tar ikke hensyn til tema\n",
    "res_sub = smf.ols('Price ~ Pieces' , data = subset_df).fit()"
   ]
  },
  {
   "cell_type": "code",
   "execution_count": null,
   "id": "c716f5a1-2394-437a-875a-aaa0564481ef",
   "metadata": {},
   "outputs": [],
   "source": [
    "# enkel LR for hvert tema hver for seg\n",
    "resultater = []\n",
    "for i, theme in enumerate(mythemes):\n",
    "    modell3 = smf.ols('Price ~ Pieces' , data = subset_df[subset_df['Theme'].isin([theme])])\n",
    "    resultater.append(modell3.fit())"
   ]
  },
  {
   "cell_type": "code",
   "execution_count": null,
   "id": "e243b26f-1e71-497a-bc8f-00ca575187f4",
   "metadata": {},
   "outputs": [],
   "source": [
    "# plott av dataene og regresjonslinjene\n",
    "for i, theme in enumerate(mythemes):\n",
    "    slope = resultater[i].params['Pieces']\n",
    "    intercept = resultater[i].params['Intercept']\n",
    "\n",
    "    regression_x = np.array(subset_df[subset_df['Theme'].isin([theme])]['Pieces'])\n",
    "    regression_y = slope * regression_x + intercept\n",
    "\n",
    "    # Plot scatter plot and regression line\n",
    "    plt.scatter(subset_df[subset_df['Theme'].isin([theme])]['Pieces'], subset_df[subset_df['Theme'].isin([theme])]['Price'], color=plt.cm.tab10(i))\n",
    "    plt.plot(regression_x, regression_y, color=plt.cm.tab10(i), label=theme)\n",
    "    \n",
    "plt.xlabel('Antall brikker')\n",
    "plt.ylabel('Pris')\n",
    "plt.title('Kryssplott med regresjonslinjer')\n",
    "plt.legend()\n",
    "plt.grid()\n",
    "plt.show()"
   ]
  },
  {
   "cell_type": "markdown",
   "id": "b74f53aa-c8f6-4666-8c4b-f345af966d5b",
   "metadata": {
    "tags": []
   },
   "source": [
    "## "
   ]
  },
  {
   "cell_type": "code",
   "execution_count": null,
   "id": "49d534ed-af6a-473b-8e53-aa7970058585",
   "metadata": {},
   "outputs": [],
   "source": [
    "# multippel lineær regresjon\n",
    "modell3_mlr = smf.ols('Price ~ Pieces + Theme' , data = subset_df)\n",
    "modell3_mlr.fit().summary()"
   ]
  },
  {
   "cell_type": "code",
   "execution_count": null,
   "id": "2ef89cc9-011a-4c4c-b2e6-8a062c47ccea",
   "metadata": {},
   "outputs": [],
   "source": [
    "# multippel lineær regresjon med en annen referansekategori\n",
    "modell3_mlr_alt = smf.ols('Price ~ Pieces + C(Theme, Treatment(\"Star Wars\"))' , data = subset_df)\n",
    "modell3_mlr_alt.fit().summary()"
   ]
  },
  {
   "cell_type": "code",
   "execution_count": null,
   "id": "cec66e98-e93b-4970-b6e8-b9d0abf233ea",
   "metadata": {},
   "outputs": [],
   "source": [
    "# plott\n",
    "intercept = [modell3_mlr.fit().params['Theme[T.Star Wars]'], modell3_mlr.fit().params['Theme[T.NINJAGO]'], 0] + modell3_mlr.fit().params['Intercept']\n",
    "slope = modell3_mlr.fit().params['Pieces']\n",
    "\n",
    "for i, theme in enumerate(mythemes):\n",
    "\n",
    "    regression_x = np.array(subset_df[subset_df['Theme'].isin([theme])]['Pieces'])\n",
    "    regression_y = slope * regression_x + intercept[i]\n",
    "\n",
    "    # Plot scatter plot and regression line\n",
    "    plt.scatter(subset_df[subset_df['Theme'].isin([theme])]['Pieces'], subset_df[subset_df['Theme'].isin([theme])]['Price'], color = plt.cm.tab10(i))\n",
    "    plt.plot(regression_x, regression_y, color=plt.cm.tab10(i), label=theme)\n",
    "    \n",
    "# uten tema som forklaringsvariabel:\n",
    "regression_x = np.array(subset_df['Pieces'])\n",
    "regression_y = res_sub.params['Pieces'] * regression_x + res_sub.params['Intercept']\n",
    "plt.plot(regression_x, regression_y, color='black', label = 'No theme')\n",
    "    \n",
    "plt.xlabel('Antall brikker')\n",
    "plt.ylabel('Pris')\n",
    "plt.title('Kryssplott med regresjonslinjer')\n",
    "plt.legend()\n",
    "plt.grid()\n",
    "plt.show()"
   ]
  },
  {
   "cell_type": "code",
   "execution_count": null,
   "id": "81290810-1694-426e-8520-e05bac625763",
   "metadata": {},
   "outputs": [],
   "source": [
    "# med interaksjonsledd mellom antall brikker og tema\n",
    "modell3_mlri = smf.ols('Price ~ Pieces*Theme' , data = subset_df)\n",
    "modell3_mlri.fit().summary()"
   ]
  },
  {
   "cell_type": "code",
   "execution_count": null,
   "id": "ab55e4bb-7630-4db3-a90e-718f57b8eaed",
   "metadata": {},
   "outputs": [],
   "source": [
    "# plott\n",
    "intercept = [modell3_mlri.fit().params['Theme[T.Star Wars]'], modell3_mlri.fit().params['Theme[T.NINJAGO]'], 0] + modell3_mlri.fit().params['Intercept']\n",
    "slope = [modell3_mlri.fit().params['Pieces:Theme[T.Star Wars]'], modell3_mlri.fit().params['Pieces:Theme[T.NINJAGO]'], 0] + modell3_mlri.fit().params['Pieces']\n",
    "\n",
    "for i, theme in enumerate(mythemes):\n",
    "\n",
    "    regression_x = np.array(subset_df[subset_df['Theme'].isin([theme])]['Pieces'])\n",
    "    regression_y = slope[i] * regression_x + intercept[i]\n",
    "\n",
    "    # Plot scatter plot and regression line\n",
    "    plt.scatter(subset_df[subset_df['Theme'].isin([theme])]['Pieces'], subset_df[subset_df['Theme'].isin([theme])]['Price'], color=plt.cm.tab10(i))\n",
    "    plt.plot(regression_x, regression_y, color=plt.cm.tab10(i), label=theme)\n",
    "    \n",
    "# uten tema som forklaringsvariabel:\n",
    "regression_x = np.array(subset_df['Pieces'])\n",
    "regression_y = res_sub.params['Pieces'] * regression_x + res_sub.params['Intercept']\n",
    "plt.plot(regression_x, regression_y, color='black', label='Theme unaccounted for')\n",
    "    \n",
    "plt.xlabel('Antall brikker')\n",
    "plt.ylabel('Pris [$]')\n",
    "plt.title('Kryssplott med regresjonslinjer')\n",
    "plt.legend()\n",
    "plt.grid()\n",
    "plt.show()"
   ]
  },
  {
   "cell_type": "code",
   "execution_count": null,
   "id": "a31d7edd-dc4b-4357-9684-34ad078db2e7",
   "metadata": {},
   "outputs": [],
   "source": [
    "# Kode for å lagre plot som (.png)\n",
    "## fjern 'plt.show()' og erstatt med:\n",
    "# plt.savefig('my_plot.png')"
   ]
  },
  {
   "cell_type": "code",
   "execution_count": null,
   "id": "a4e71738-bb4b-4370-9dfa-12208feef41c",
   "metadata": {},
   "outputs": [],
   "source": [
    "# Steg 5: Evaluere om modellen passer til dataene\n",
    "# Plotte predikert verdi mot residual\n",
    "figure, axis = plt.subplots(1, 2, figsize = (15, 5))\n",
    "sns.scatterplot(x = modell3_mlri.fit().fittedvalues, y = modell3_mlri.fit().resid, ax = axis[0])\n",
    "axis[0].set_ylabel(\"Residual\")\n",
    "axis[0].set_xlabel(\"Predikert verdi\")\n",
    "\n",
    "# Lage kvantil-kvantil-plott for residualene\n",
    "sm.qqplot(modell3_mlri.fit().resid, line = '45', fit = True, ax = axis[1])\n",
    "axis[1].set_ylabel(\"Kvantiler i residualene\")\n",
    "axis[1].set_xlabel(\"Kvantiler i normalfordelingen\")\n",
    "plt.show()"
   ]
  },
  {
   "cell_type": "code",
   "execution_count": null,
   "id": "be8e578c-bad1-4a97-bbcc-ecb7471d8be7",
   "metadata": {},
   "outputs": [],
   "source": [
    "# Gruppere temaer i nye grupper:\n",
    "# (Harry Potter, NINJAGO og Star Wars havner i én gruppe, City og Friends i en annen, og alle andre i en tredje)\n",
    "df2['cat'] = np.where(df2['Theme'].isin(['Harry Potter', 'NINJAGO', 'Star Wars']), 'Cat1', \n",
    "                      np.where(df2['Theme'].isin(['City', 'Friends']), 'Cat2', 'Cat3'))\n",
    "df2.groupby(['cat']).size().reset_index(name = 'Count')"
   ]
  },
  {
   "cell_type": "code",
   "execution_count": null,
   "id": "7aea77d8-754c-49b9-b622-06dd3c65ba87",
   "metadata": {},
   "outputs": [],
   "source": [
    "df2.groupby(['cat', 'Theme']).size().reset_index(name = 'Count')"
   ]
  },
  {
   "cell_type": "code",
   "execution_count": null,
   "id": "bf0fd14b-8020-41f5-8707-77fb1f2cf807",
   "metadata": {},
   "outputs": [],
   "source": []
  }
 ],
 "metadata": {
  "kernelspec": {
   "display_name": "Python 3",
   "language": "python",
   "name": "python3"
  },
  "language_info": {
   "codemirror_mode": {
    "name": "ipython",
    "version": 3
   },
   "file_extension": ".py",
   "mimetype": "text/x-python",
   "name": "python",
   "nbconvert_exporter": "python",
   "pygments_lexer": "ipython3",
   "version": "3.8.8"
  }
 },
 "nbformat": 4,
 "nbformat_minor": 5
}
